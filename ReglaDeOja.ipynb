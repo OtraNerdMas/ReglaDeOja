{
  "nbformat": 4,
  "nbformat_minor": 0,
  "metadata": {
    "colab": {
      "name": "ReglaDeOja.ipynb",
      "version": "0.3.2",
      "provenance": [],
      "include_colab_link": true
    },
    "kernelspec": {
      "name": "python3",
      "display_name": "Python 3"
    }
  },
  "cells": [
    {
      "cell_type": "markdown",
      "metadata": {
        "id": "view-in-github",
        "colab_type": "text"
      },
      "source": [
        "<a href=\"https://colab.research.google.com/github/OtraNerdMas/SegundoTPRedes/blob/master/ReglaDeOja.ipynb\" target=\"_parent\"><img src=\"https://colab.research.google.com/assets/colab-badge.svg\" alt=\"Open In Colab\"/></a>"
      ]
    },
    {
      "cell_type": "markdown",
      "metadata": {
        "id": "EM48Zd7AuCJ0",
        "colab_type": "text"
      },
      "source": [
        "## Imports"
      ]
    },
    {
      "cell_type": "code",
      "metadata": {
        "id": "cxmmjvi0uB3c",
        "colab_type": "code",
        "colab": {}
      },
      "source": [
        "import numpy as np\n",
        "import matplotlib.pyplot as plt"
      ],
      "execution_count": 0,
      "outputs": []
    },
    {
      "cell_type": "markdown",
      "metadata": {
        "id": "gQVLMXeyvHSb",
        "colab_type": "text"
      },
      "source": [
        "## Entrenamiento"
      ]
    },
    {
      "cell_type": "code",
      "metadata": {
        "id": "CQMarW_gvxil",
        "colab_type": "code",
        "colab": {}
      },
      "source": [
        "learningRate = 0.1\n",
        "w_save = []\n",
        "epsilon = 0.00000001"
      ],
      "execution_count": 0,
      "outputs": []
    },
    {
      "cell_type": "code",
      "metadata": {
        "id": "LYqQoLSMvQ-L",
        "colab_type": "code",
        "colab": {}
      },
      "source": [
        "def train(datos, learningRate, epsilon):\n",
        "    w = np.random.rand(1, 2) * 2 - 1\n",
        "    i = 1\n",
        "    for dato in datos:\n",
        "      w_save.append(w)\n",
        "      dato = dato[:, np.newaxis]\n",
        "      output = np.dot(w, dato)\n",
        "      \n",
        "      w_aux = w\n",
        "\n",
        "      w = w + learningRate * output[0][0] * (dato.T - output[0][0] * w)\n",
        "\n",
        "      i = i + 1\n",
        "      \n",
        "      \n",
        "      if (abs(np.mean(w_aux - w))  < epsilon):\n",
        "        print(abs(np.mean(w_aux - w))) \n",
        "        return w, i;\n",
        "      \n",
        "    return w , len(datos)"
      ],
      "execution_count": 0,
      "outputs": []
    },
    {
      "cell_type": "code",
      "metadata": {
        "id": "tO0QdOzSwTBc",
        "colab_type": "code",
        "colab": {}
      },
      "source": [
        "def predict(entrada):\n",
        "  output = np.dot(w, entrada)\n",
        "  return output"
      ],
      "execution_count": 0,
      "outputs": []
    },
    {
      "cell_type": "markdown",
      "metadata": {
        "id": "dTzPjHRFt5hA",
        "colab_type": "text"
      },
      "source": [
        "## Algunos datasets"
      ]
    },
    {
      "cell_type": "markdown",
      "metadata": {
        "id": "1vw3YruLuQgc",
        "colab_type": "text"
      },
      "source": [
        "Cuadrado de puntos"
      ]
    },
    {
      "cell_type": "code",
      "metadata": {
        "id": "s-5_NIF9tlY4",
        "colab_type": "code",
        "colab": {}
      },
      "source": [
        "datosEjeX = np.random.rand(1, 400) * 2 - 1\n",
        "datosEjeY = np.random.rand(1, 400) / 1000 - (0.5/1000)\n",
        "#datosEjeY += datosEjeX\n",
        "datosCuadrado = []\n",
        "for i in range(datosEjeX.shape[1]):\n",
        "  datosCuadrado.append([datosEjeX[0][i], datosEjeY[0][i]])\n",
        "  \n",
        "datosCuadrado = np.array(datosCuadrado)\n",
        "\n",
        "plt.plot(datosCuadrado[:, 0], datosCuadrado[:, 1] , '.')\n",
        "plt.show()\n"
      ],
      "execution_count": 0,
      "outputs": []
    },
    {
      "cell_type": "markdown",
      "metadata": {
        "id": "3k8zTnF3unr-",
        "colab_type": "text"
      },
      "source": [
        "Datos dos circulos"
      ]
    },
    {
      "cell_type": "code",
      "metadata": {
        "id": "Q7tqjiqluoPc",
        "colab_type": "code",
        "colab": {}
      },
      "source": [
        "datosX_1 = np.random.normal(0, 1/5, 1000) + 1\n",
        "datosY_1 = np.random.normal(0, 1/5, 1000) + 1\n",
        "\n",
        "datosX_2 = np.random.normal(0, 1/5, 1000) - 1\n",
        "datosY_2 = np.random.normal(0, 1/5, 1000) - 1\n",
        "\n",
        "datosX = np.concatenate((datosX_1, datosX_2))\n",
        "datosY = np.concatenate((datosY_1, datosY_2))\n",
        "\n",
        "datosCirculos=[]\n",
        "\n",
        "for i in range(datosX.shape[0]):\n",
        "  datosCirculos.append([datosX[i], datosY[i]])\n",
        "  \n",
        "datosCirculos = np.array(datosCirculos)\n",
        "\n",
        "plt.plot(datosCirculos[:, 0], datosCirculos[:, 1] , '.')\n",
        "plt.axis('equal')\n",
        "plt.show()\n"
      ],
      "execution_count": 0,
      "outputs": []
    },
    {
      "cell_type": "markdown",
      "metadata": {
        "id": "ayH6x23JwbJh",
        "colab_type": "text"
      },
      "source": [
        "## Ejemplos"
      ]
    },
    {
      "cell_type": "markdown",
      "metadata": {
        "id": "leGxC4Jtwfin",
        "colab_type": "text"
      },
      "source": [
        "### Cuadrado"
      ]
    },
    {
      "cell_type": "code",
      "metadata": {
        "id": "6cWNog7SwaxJ",
        "colab_type": "code",
        "colab": {
          "base_uri": "https://localhost:8080/",
          "height": 34
        },
        "outputId": "106bf5c0-749d-4e8a-e320-41d13a252f7f"
      },
      "source": [
        "wCuadrado, iCuadrado = train(datosCuadrado, learningRate, epsilon)"
      ],
      "execution_count": 17,
      "outputs": [
        {
          "output_type": "stream",
          "text": [
            "3.2814772409970445e-09\n"
          ],
          "name": "stdout"
        }
      ]
    },
    {
      "cell_type": "code",
      "metadata": {
        "id": "UfRTXE0_yfLO",
        "colab_type": "code",
        "colab": {
          "base_uri": "https://localhost:8080/",
          "height": 269
        },
        "outputId": "e5b1a6b3-8874-4b8f-fa3f-6c23a0d888e9"
      },
      "source": [
        "plt.plot(datosCuadrado[:, 0], datosCuadrado[:, 1] , '.')\n",
        "plt.plot(w[0][0] * 5, wCuadrado[0][1] * 5, 'o', 'r') ##W Entrenado quizas\n",
        "plt.plot(w_save[0][:, 0] * 2, w_save[0][:, 1] * 2, 'o', 'g') ## I\n",
        "plt.axis('equal')\n",
        "plt.show()"
      ],
      "execution_count": 19,
      "outputs": [
        {
          "output_type": "display_data",
          "data": {
            "image/png": "[encoded data removed]",
            "text/plain": [
              "<Figure size 432x288 with 1 Axes>"
            ]
          },
          "metadata": {
            "tags": []
          }
        }
      ]
    },
    {
      "cell_type": "markdown",
      "metadata": {
        "id": "2Io_kSe6zWCc",
        "colab_type": "text"
      },
      "source": [
        "### Circulos"
      ]
    },
    {
      "cell_type": "code",
      "metadata": {
        "id": "w0zukW3TzZqa",
        "colab_type": "code",
        "colab": {}
      },
      "source": [
        "wCirculos, iCirculos = train(datosCirculos, learningRate, epsilon)"
      ],
      "execution_count": 0,
      "outputs": []
    },
    {
      "cell_type": "code",
      "metadata": {
        "id": "ykjva-HdzjLG",
        "colab_type": "code",
        "colab": {
          "base_uri": "https://localhost:8080/",
          "height": 269
        },
        "outputId": "6bcc9a07-d5a5-425f-de6c-1de1ebb3e2af"
      },
      "source": [
        "plt.plot(datosCirculos[:, 0], datosCirculos[:, 1] , '.')\n",
        "plt.plot(w[0][0] * 5, wCirculos[0][1] * 5, '*', 'b') ##W No entrenado quizas\n",
        "plt.plot(w_save[0][:, 0] * 2, w_save[0][:, 1] * 2, '*', 'g') ## Entrenado\n",
        "plt.axis('equal')\n",
        "plt.show()"
      ],
      "execution_count": 25,
      "outputs": [
        {
          "output_type": "display_data",
          "data": {
            "image/png": "[encoded data removed]",
            "text/plain": [
              "<Figure size 432x288 with 1 Axes>"
            ]
          },
          "metadata": {
            "tags": []
          }
        }
      ]
    }
  ]
}